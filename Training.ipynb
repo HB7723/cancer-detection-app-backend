{
  "nbformat": 4,
  "nbformat_minor": 0,
  "metadata": {
    "colab": {
      "provenance": []
    },
    "kernelspec": {
      "name": "python3",
      "display_name": "Python 3"
    },
    "language_info": {
      "name": "python"
    }
  },
  "cells": [
    {
      "cell_type": "code",
      "execution_count": null,
      "metadata": {
        "id": "pCbhwIhMtnMk"
      },
      "outputs": [],
      "source": [
        "!pip install --upgrade tensorflow-io\n",
        "\n",
        "import os\n",
        "import re\n",
        "import math\n",
        "import random\n",
        "import warnings\n",
        "import numpy as np\n",
        "import pandas as pd\n",
        "import matplotlib.pyplot as plt\n",
        "from matplotlib import gridspec\n",
        "import cv2\n",
        "import tensorflow as tf\n",
        "from tensorflow import keras\n",
        "from tensorflow.keras import datasets, layers, models\n",
        "from tensorflow.keras.applications import ResNet50\n",
        "from tensorflow.keras.layers import Dense, GlobalAveragePooling2D\n",
        "from tensorflow.keras.models import Model\n",
        "from sklearn.model_selection import KFold, train_test_split\n",
        "from sklearn.preprocessing import LabelEncoder\n",
        "from sklearn.metrics import precision_score, recall_score, confusion_matrix\n",
        "\n",
        "# Set TensorFlow version for display purposes\n",
        "print('Tensorflow version ' + tf.__version__)"
      ]
    },
    {
      "cell_type": "code",
      "source": [
        "pretrained_model = ResNet50(weights='imagenet', include_top=False, input_shape=(224, 224, 3))"
      ],
      "metadata": {
        "id": "l09uJFvXuaDB"
      },
      "execution_count": null,
      "outputs": []
    },
    {
      "cell_type": "code",
      "source": [
        "x = pretrained_model.output\n",
        "x = GlobalAveragePooling2D()(x)\n",
        "x = Dense(256, activation='relu')(x)\n",
        "predictions = Dense(2, activation='softmax')(x)"
      ],
      "metadata": {
        "id": "yvfVPiSVucxn"
      },
      "execution_count": null,
      "outputs": []
    },
    {
      "cell_type": "code",
      "source": [
        "model1 = Model(inputs=pretrained_model.input, outputs=predictions)\n",
        "\n",
        "for layer in pretrained_model.layers:\n",
        "    layer.trainable = False"
      ],
      "metadata": {
        "id": "jZYHgezbufQH"
      },
      "execution_count": null,
      "outputs": []
    },
    {
      "cell_type": "code",
      "source": [
        "x = GlobalAveragePooling2D()(pretrained_model.output)\n",
        "x = Dense(256, activation='relu')(x)\n",
        "predictions = Dense(2, activation='softmax')(x)"
      ],
      "metadata": {
        "id": "NiiJs4gMuiRq"
      },
      "execution_count": null,
      "outputs": []
    },
    {
      "cell_type": "code",
      "source": [
        "from google.colab import drive\n",
        "drive.mount('/content/drive')"
      ],
      "metadata": {
        "colab": {
          "base_uri": "https://localhost:8080/"
        },
        "id": "s9Z335iTv-_0",
        "outputId": "00678950-6612-4151-9407-d5e51712ca1e"
      },
      "execution_count": null,
      "outputs": [
        {
          "output_type": "stream",
          "name": "stdout",
          "text": [
            "Drive already mounted at /content/drive; to attempt to forcibly remount, call drive.mount(\"/content/drive\", force_remount=True).\n"
          ]
        }
      ]
    },
    {
      "cell_type": "code",
      "source": [
        "TRAIN_PATH = '/content/drive/My Drive/DFU/Patches'\n",
        "TEST_PATH = '/content/drive/My Drive/DFU/TestSet'"
      ],
      "metadata": {
        "id": "jR4_DaLZvHEl"
      },
      "execution_count": null,
      "outputs": []
    },
    {
      "cell_type": "code",
      "source": [
        "fpath=TRAIN_PATH+r'/Abnormal(Ulcer)/10.jpg'\n",
        "img=plt.imread(fpath)\n",
        "print (img.shape)"
      ],
      "metadata": {
        "id": "aq8QGI1swKA2",
        "outputId": "e791a836-270b-4b53-8c78-b874ac7f442b",
        "colab": {
          "base_uri": "https://localhost:8080/"
        }
      },
      "execution_count": null,
      "outputs": [
        {
          "output_type": "stream",
          "name": "stdout",
          "text": [
            "(224, 224, 3)\n"
          ]
        }
      ]
    },
    {
      "cell_type": "code",
      "source": [
        "from tensorflow.keras.preprocessing.image import ImageDataGenerator\n",
        "\n",
        "datagen = ImageDataGenerator(\n",
        "    rescale=1.0/255.0,\n",
        "    validation_split=0.2\n",
        ")\n",
        "\n",
        "train_ds = datagen.flow_from_directory(\n",
        "    TRAIN_PATH,\n",
        "    target_size=(224,224),\n",
        "    batch_size=64,\n",
        "    class_mode='categorical',\n",
        "    subset='training',\n",
        "    seed=0\n",
        ")\n",
        "train_labels = train_ds.classes\n",
        "\n",
        "val_ds = datagen.flow_from_directory(\n",
        "    TRAIN_PATH,\n",
        "    target_size=(224,224),\n",
        "    batch_size=64,\n",
        "    class_mode='categorical',\n",
        "    subset='validation',\n",
        "    seed=0\n",
        "\n",
        ")\n",
        "val_labels = val_ds.classes"
      ],
      "metadata": {
        "colab": {
          "base_uri": "https://localhost:8080/"
        },
        "id": "q5oB87Jw2Fh-",
        "outputId": "e74556ae-dff9-4a9f-d7ff-680b7d026739"
      },
      "execution_count": null,
      "outputs": [
        {
          "output_type": "stream",
          "name": "stdout",
          "text": [
            "Found 507 images belonging to 2 classes.\n",
            "Found 126 images belonging to 2 classes.\n"
          ]
        }
      ]
    },
    {
      "cell_type": "code",
      "source": [
        "def decode_img(img):\n",
        "  img = tf.io.decode_jpeg(img, channels=3)\n",
        "  return tf.image.resize(img, [224,224])\n",
        "\n",
        "def process_path(file_path):\n",
        "  img = tf.io.read_file(file_path)\n",
        "  img = decode_img(img)\n",
        "  return img\n",
        "\n",
        "test_ds = tf.data.Dataset.list_files(str(TEST_PATH + '/*'), shuffle=False)\n",
        "test_ds = test_ds.map(process_path, num_parallel_calls=tf.data.AUTOTUNE)"
      ],
      "metadata": {
        "id": "9nBNT5tx2LQ5"
      },
      "execution_count": null,
      "outputs": []
    },
    {
      "cell_type": "code",
      "source": [
        "class_names = train_ds.class_indices\n",
        "class_names = list(class_names.keys())\n",
        "print(class_names)"
      ],
      "metadata": {
        "colab": {
          "base_uri": "https://localhost:8080/"
        },
        "id": "-8wohycn2P-e",
        "outputId": "a3725e65-7200-4139-d7ee-cd2bfa96cfd4"
      },
      "execution_count": null,
      "outputs": [
        {
          "output_type": "stream",
          "name": "stdout",
          "text": [
            "['Abnormal(Ulcer)', 'Normal(Healthy skin)']\n"
          ]
        }
      ]
    },
    {
      "cell_type": "code",
      "source": [
        "import matplotlib.pyplot as plt\n",
        "\n",
        "plt.figure(figsize=(7, 7))\n",
        "for images, labels in train_ds:\n",
        "    for i in range(9):\n",
        "        ax = plt.subplot(3, 3, i + 1)\n",
        "        plt.imshow(images[i])\n",
        "        plt.title(class_names[labels[i].argmax()])\n",
        "        plt.axis('off')\n",
        "    break\n",
        "plt.tight_layout()\n",
        "plt.show()"
      ],
      "metadata": {
        "id": "bZ6BmR682SCg"
      },
      "execution_count": null,
      "outputs": []
    },
    {
      "cell_type": "code",
      "source": [
        "plt.figure(figsize = (7, 7))\n",
        "\n",
        "i = 0\n",
        "for images in test_ds.take(6):\n",
        "    ax = plt.subplot(3, 3, i + 1)\n",
        "    plt.imshow(images.numpy().astype(\"uint8\"))\n",
        "    plt.axis(\"off\")\n",
        "    i += 1"
      ],
      "metadata": {
        "id": "DucaFzb52dHZ"
      },
      "execution_count": null,
      "outputs": []
    },
    {
      "cell_type": "code",
      "source": [
        "model1.compile(optimizer='adam', loss='categorical_crossentropy', metrics=['accuracy'])\n",
        "import tensorflow.keras.callbacks as callbacks\n",
        "\n",
        "lr_callback = callbacks.ReduceLROnPlateau(monitor='val_accuracy', factor=0.1, patience=5)\n",
        "stop_callback = callbacks.EarlyStopping(monitor='val_accuracy', patience=10)"
      ],
      "metadata": {
        "id": "xAYjGpKf2klt"
      },
      "execution_count": null,
      "outputs": []
    },
    {
      "cell_type": "code",
      "source": [
        "history=model1.fit(train_ds,   callbacks=[lr_callback, stop_callback],batch_size=32, epochs=30, validation_data=val_ds)"
      ],
      "metadata": {
        "id": "xZBqcpm82pJD"
      },
      "execution_count": null,
      "outputs": []
    },
    {
      "cell_type": "code",
      "source": [
        "plt.figure(figsize = (30, 30))\n",
        "plt.tight_layout()\n",
        "\n",
        "i = 0\n",
        "for images in test_ds.take(15):\n",
        "    ax = plt.subplot(5, 5, i + 1)\n",
        "    prediction = np.argmax(model1.predict(np.array([images])), axis = 1)\n",
        "    plt.imshow(images.numpy().astype(\"uint8\"))\n",
        "    plt.title(class_names[prediction[0]])\n",
        "    plt.axis(\"off\")\n",
        "\n",
        "    i += 1"
      ],
      "metadata": {
        "id": "UvHF2g6w2x5A"
      },
      "execution_count": null,
      "outputs": []
    },
    {
      "cell_type": "code",
      "source": [
        "def plot_hist(hist):\n",
        "    plt.plot(hist.history[\"accuracy\"])\n",
        "    plt.plot(hist.history[\"val_accuracy\"])\n",
        "    plt.title(\"model accuracy\")\n",
        "    plt.ylabel(\"accuracy\")\n",
        "    plt.xlabel(\"epoch\")\n",
        "    plt.legend([\"train\", \"validation\"], loc=\"upper left\")\n",
        "    plt.show()\n",
        "\n",
        "\n",
        "plot_hist(history)"
      ],
      "metadata": {
        "id": "0eLh77Y93UDe"
      },
      "execution_count": null,
      "outputs": []
    },
    {
      "cell_type": "code",
      "source": [
        "model1.save(\"/content/drive/My Drive/DFU/\")"
      ],
      "metadata": {
        "id": "fvbs7LKv3UxS"
      },
      "execution_count": null,
      "outputs": []
    }
  ]
}